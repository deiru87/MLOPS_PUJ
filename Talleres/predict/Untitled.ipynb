{
 "cells": [
  {
   "cell_type": "code",
   "execution_count": 10,
   "id": "af24012a-eac9-44de-b6c8-2ea52b64db9d",
   "metadata": {
    "tags": []
   },
   "outputs": [
    {
     "name": "stdout",
     "output_type": "stream",
     "text": [
      "False\n"
     ]
    }
   ],
   "source": [
    "import os\n",
    "path = './train/'\n",
    "print(os.path.isfile('prenguins_data_model.joblib'))"
   ]
  },
  {
   "cell_type": "code",
   "execution_count": 11,
   "id": "186e95d6-ea0d-45cb-9670-3600f20a762c",
   "metadata": {
    "tags": []
   },
   "outputs": [
    {
     "name": "stdout",
     "output_type": "stream",
     "text": [
      "False\n"
     ]
    }
   ],
   "source": [
    "print(os.path.isfile(path+'prenguins_data_model.joblib'))"
   ]
  },
  {
   "cell_type": "code",
   "execution_count": 24,
   "id": "7fb065cf-7237-4611-84f9-2dcec98962be",
   "metadata": {
    "tags": []
   },
   "outputs": [
    {
     "data": {
      "text/plain": [
       "b'/work'"
      ]
     },
     "execution_count": 24,
     "metadata": {},
     "output_type": "execute_result"
    }
   ],
   "source": [
    "os.getcwdb()"
   ]
  },
  {
   "cell_type": "code",
   "execution_count": 25,
   "id": "890e5d7e-3166-4228-826d-6693ed21e057",
   "metadata": {
    "tags": []
   },
   "outputs": [
    {
     "data": {
      "text/plain": [
       "['Untitled.ipynb',\n",
       " '.ipynb_checkpoints',\n",
       " 'requirements.txt',\n",
       " 'Dockerfile',\n",
       " 'main.py',\n",
       " 'penguin.py']"
      ]
     },
     "execution_count": 25,
     "metadata": {},
     "output_type": "execute_result"
    }
   ],
   "source": [
    "os.listdir()"
   ]
  }
 ],
 "metadata": {
  "kernelspec": {
   "display_name": "Python 3 (ipykernel)",
   "language": "python",
   "name": "python3"
  },
  "language_info": {
   "codemirror_mode": {
    "name": "ipython",
    "version": 3
   },
   "file_extension": ".py",
   "mimetype": "text/x-python",
   "name": "python",
   "nbconvert_exporter": "python",
   "pygments_lexer": "ipython3",
   "version": "3.9.16"
  }
 },
 "nbformat": 4,
 "nbformat_minor": 5
}
